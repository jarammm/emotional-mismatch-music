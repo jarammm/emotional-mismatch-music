{
 "cells": [
  {
   "cell_type": "code",
   "execution_count": null,
   "id": "0a84db2c",
   "metadata": {},
   "outputs": [],
   "source": [
    "import subprocess\n",
    "import os\n",
    "import re\n",
    "from tqdm.auto import tqdm\n",
    "import pandas as pd\n",
    "import numpy as np\n",
    "import matplotlib.pyplot as plt\n",
    "import shutil\n",
    "from pathlib import Path\n",
    "\n",
    "import librosa\n",
    "import librosa.display"
   ]
  },
  {
   "cell_type": "code",
   "execution_count": null,
   "id": "fbe779d4",
   "metadata": {},
   "outputs": [],
   "source": [
    "df = pd.read_csv(\"***.csv\", encoding='utf-8-sig')\n",
    "df.head()"
   ]
  },
  {
   "cell_type": "markdown",
   "id": "e7d764ad",
   "metadata": {},
   "source": [
    "Path \"0\", \"1\" by match_status"
   ]
  },
  {
   "cell_type": "code",
   "execution_count": null,
   "id": "030e1736",
   "metadata": {},
   "outputs": [],
   "source": [
    "src_dir = 'temp_wavs'\n",
    "\n",
    "for label in [\"0\", \"1\"]:\n",
    "    os.makedirs(os.path.join(src_dir, label), exist_ok=True)\n",
    "\n",
    "for _, row in df.iterrows():\n",
    "    filename = f\"{row['artist']} - {row['title']}.wav\"\n",
    "    src_path = os.path.join(src_dir, filename)\n",
    "    if not os.path.exists(src_path):\n",
    "        print(f\"[경고] {filename} 파일 없음\")\n",
    "        continue\n",
    "\n",
    "    label = \"1\" if row[\"match_status\"] == \"match\" else \"0\"\n",
    "    dst_path = os.path.join(src_dir, label, filename)\n",
    "    shutil.move(src_path, dst_path)"
   ]
  },
  {
   "cell_type": "code",
   "execution_count": null,
   "id": "4eed9df4",
   "metadata": {},
   "outputs": [],
   "source": [
    "mismatch = Path('temp_wavs/0')\n",
    "mis_wav_paths = sorted(mismatch.glob('*.wav'))\n",
    "match = Path('temp_wavs/1')\n",
    "mat_wav_paths = sorted(match.glob('*.wav'))"
   ]
  },
  {
   "cell_type": "markdown",
   "id": "ec724c1f",
   "metadata": {},
   "source": [
    "Path \"0\", \"1\", \"2\", \"3\" by emotion_pair"
   ]
  },
  {
   "cell_type": "code",
   "execution_count": null,
   "id": "bb96fba7",
   "metadata": {},
   "outputs": [],
   "source": [
    "src_dir = \"temp_wavs\"\n",
    "\n",
    "# 0~3 폴더 및 temp_wavs/ 내부의 .wav 파일들 모두 순회\n",
    "search_dirs = [src_dir] + [os.path.join(src_dir, str(i)) for i in range(4)]\n",
    "\n",
    "for folder in search_dirs:\n",
    "    for fname in os.listdir(folder):\n",
    "        if not fname.endswith(\".wav\"):\n",
    "            continue\n",
    "\n",
    "        filepath = os.path.join(folder, fname)\n",
    "\n",
    "        row = df[df.apply(\n",
    "            lambda r: f\"{r['artist']} - {r['title']}.wav\" == fname,\n",
    "            axis=1\n",
    "        )]\n",
    "\n",
    "        if row.empty:\n",
    "            print(f\"[경고] {fname} 파일 없음\")\n",
    "            continue\n",
    "\n",
    "        match_status = row.iloc[0][\"match_status\"]\n",
    "        if match_status not in [\"match\", \"mismatch\"]:\n",
    "            print(f\"[경고] {match_status} 해당 없음\")\n",
    "            continue\n",
    "\n",
    "        dst_label = \"1\" if match_status == \"match\" else \"0\"\n",
    "        dst_path = os.path.join(src_dir, dst_label, fname)\n",
    "        shutil.move(filepath, dst_path)"
   ]
  },
  {
   "cell_type": "markdown",
   "id": "c3d46545",
   "metadata": {},
   "source": [
    "Analysis"
   ]
  },
  {
   "cell_type": "markdown",
   "id": "ca856b80",
   "metadata": {},
   "source": [
    "- Tempo"
   ]
  },
  {
   "cell_type": "code",
   "execution_count": null,
   "id": "e95f7bed",
   "metadata": {},
   "outputs": [],
   "source": [
    "def get_dominant_tempo_variance(audio_path):\n",
    "    y, sr = librosa.load(audio_path)\n",
    "    hop_length = 512\n",
    "\n",
    "    onset_strength_seq = librosa.onset.onset_strength(y=y, sr=sr, hop_length=hop_length)\n",
    "    tempogram = librosa.feature.tempogram(onset_envelope=onset_strength_seq, sr=sr, hop_length=hop_length) # (num_bins, num_frames)\n",
    "\n",
    "    tempos = librosa.tempo_frequencies(tempogram.shape[0], sr=sr, hop_length=hop_length) # tempo bin index → bpm\n",
    "    dominant_indices = np.argmax(tempogram[1:], axis=0) + 1\n",
    "    dominant_tempos = tempos[dominant_indices]\n",
    "\n",
    "    dominant_tempos = dominant_tempos[(~np.isnan(dominant_tempos)) & (~np.isinf(dominant_tempos))]\n",
    "    dominant_tempos = np.log2(dominant_tempos + 1e-6)\n",
    "\n",
    "    if len(dominant_tempos) == 0:\n",
    "        return 0.0\n",
    "\n",
    "    dominant_tempo_variance = np.var(dominant_tempos)\n",
    "\n",
    "    return dominant_tempo_variance"
   ]
  },
  {
   "cell_type": "code",
   "execution_count": null,
   "id": "38545cc0",
   "metadata": {},
   "outputs": [],
   "source": [
    "for path in tqdm(mat_wav_paths, desc=\"match\"):\n",
    "    filename = path.name.replace(\".wav\", \"\").strip()\n",
    "    dominant_tempo_variance = get_dominant_tempo_variance(str(path))\n",
    "    df.loc[df['fileName'] == filename, 'dominant_tempo_variance'] = dominant_tempo_variance\n",
    "\n",
    "for path in tqdm(mis_wav_paths, desc=\"mismatch\"):\n",
    "    filename = path.name.replace(\".wav\", \"\").strip()\n",
    "    dominant_tempo_variance = get_dominant_tempo_variance(str(path))\n",
    "    df.loc[df['fileName'] == filename, 'dominant_tempo_variance'] = dominant_tempo_variance"
   ]
  },
  {
   "cell_type": "code",
   "execution_count": null,
   "id": "ed090631",
   "metadata": {},
   "outputs": [],
   "source": [
    "def get_onset_tempogram_tempo(audio_path):\n",
    "  # Load audio\n",
    "  y, sr = librosa.load(audio_path)\n",
    "  hop_length = 512\n",
    "\n",
    "  # Onset strength envelope\n",
    "  oenv = librosa.onset.onset_strength(y=y, sr=sr, hop_length=hop_length)\n",
    "  tempogram = librosa.feature.tempogram(onset_envelope=oenv, sr=sr, hop_length=hop_length) # (n_tempo_bin, n_time_frame)\n",
    "\n",
    "  return tempogram\n",
    "\n",
    "def get_active_bpm_variance(tempogram, threshold=0.5):\n",
    "  active_bpm_per_frame = np.sum(tempogram >= threshold, axis=0)\n",
    "  active_bpm_variance = np.var(active_bpm_per_frame)\n",
    "\n",
    "  prev_indices = None\n",
    "  change_counts = 0\n",
    "  for t in range(tempogram.shape[1]):\n",
    "      indices = set(np.where(tempogram[:, t] >= threshold)[0]) # threshold 넘는 템포 bin들의 인덱스\n",
    "      if prev_indices is not None:\n",
    "          change = len(indices.symmetric_difference(prev_indices))\n",
    "          change_counts += change\n",
    "      prev_indices = indices\n",
    "  tempo_transition_complexity = change_counts / tempogram.shape[1]\n",
    "\n",
    "  return tempo_transition_complexity, active_bpm_variance"
   ]
  },
  {
   "cell_type": "code",
   "execution_count": null,
   "id": "c80ca6c6",
   "metadata": {},
   "outputs": [],
   "source": [
    "from tqdm.auto import tqdm\n",
    "for path in tqdm(mat_wav_paths, desc=\"match\"):\n",
    "    filename = path.name.replace(\".wav\", \"\").strip()\n",
    "    tempogram = get_onset_tempogram_tempo(str(path))\n",
    "    tempo_transition_complexity, active_bpm_variance = get_dominant_tempo(tempogram)\n",
    "    df.loc[df['fileName'] == filename, 'tempo_transition_complexity'] = tempo_transition_complexity\n",
    "    df.loc[df['fileName'] == filename, 'active_bpm_variance'] = active_bpm_variance\n",
    "\n",
    "for path in tqdm(mis_wav_paths, desc=\"mismatch\"):\n",
    "    filename = path.name.replace(\".wav\", \"\").strip()\n",
    "    tempogram = get_onset_tempogram_tempo(str(path))\n",
    "    tempo_transition_complexity, active_bpm_variance = get_dominant_tempo(tempogram)\n",
    "    df.loc[df['fileName'] == filename, 'tempo_transition_complexity'] = tempo_transition_complexity\n",
    "    df.loc[df['fileName'] == filename, 'active_bpm_variance'] = active_bpm_variance"
   ]
  },
  {
   "cell_type": "markdown",
   "id": "43afbf50",
   "metadata": {},
   "source": [
    "- RMS"
   ]
  },
  {
   "cell_type": "code",
   "execution_count": null,
   "id": "d55480c8",
   "metadata": {},
   "outputs": [],
   "source": [
    "def get_rms_variance(audio_path):\n",
    "    y, sr = librosa.load(audio_path)\n",
    "\n",
    "    rms = librosa.feature.rms(y=y).flatten() # (n_rms_value=1, n_time_frame)\n",
    "    rms = rms[~np.isnan(rms) & ~np.isinf(rms)]\n",
    "\n",
    "    if len(rms) == 0:\n",
    "        return 0.0\n",
    "\n",
    "    rms_var = np.var(rms)\n",
    "    return rms_var"
   ]
  },
  {
   "cell_type": "code",
   "execution_count": null,
   "id": "ec2ca3a9",
   "metadata": {},
   "outputs": [],
   "source": [
    "for path in tqdm(mat_wav_paths, desc=\"match\"):\n",
    "    filename = path.name.replace(\".wav\", \"\").strip()\n",
    "    rms_variance = get_rms_variance(str(path))\n",
    "    df.loc[df['fileName'] == filename, 'rms_variance'] = rms_variance\n",
    "\n",
    "for path in tqdm(mis_wav_paths, desc=\"mismatch\"):\n",
    "    filename = path.name.replace(\".wav\", \"\").strip()\n",
    "    rms_variance = get_rms_variance(str(path))\n",
    "    df.loc[df['fileName'] == filename, 'rms_variance'] = rms_variance"
   ]
  },
  {
   "cell_type": "markdown",
   "id": "6d7380d1",
   "metadata": {},
   "source": [
    "- Pitch"
   ]
  },
  {
   "cell_type": "code",
   "execution_count": null,
   "id": "11a5352b",
   "metadata": {},
   "outputs": [],
   "source": [
    "def get_pitch_range(audio_path):\n",
    "  y, sr = librosa.load(audio_path)\n",
    "\n",
    "  f0, _, _ = librosa.pyin(\n",
    "      y,\n",
    "      fmin=librosa.note_to_hz('C2'),\n",
    "      fmax=librosa.note_to_hz('C7'),\n",
    "      sr=sr\n",
    "  )\n",
    "\n",
    "  # NaN 제거\n",
    "  f0 = f0[~np.isnan(f0)]\n",
    "\n",
    "  # IQR 기반 이상치 제거\n",
    "  q1 = np.percentile(f0, 25)\n",
    "  q3 = np.percentile(f0, 75)\n",
    "  iqr = q3 - q1\n",
    "  lower_bound = q1 - 1.5 * iqr\n",
    "  upper_bound = q3 + 1.5 * iqr\n",
    "  \n",
    "  f0_filtered = f0[(f0 >= lower_bound) & (f0 <= upper_bound)]\n",
    "  pitch_range = np.max(f0_filtered) - np.min(f0_filtered)\n",
    "\n",
    "  return np.max(f0_filtered), np.min(f0_filtered), pitch_range"
   ]
  },
  {
   "cell_type": "code",
   "execution_count": null,
   "id": "7e3b2b37",
   "metadata": {},
   "outputs": [],
   "source": [
    "for path in tqdm(mat_wav_paths, desc=\"match\"):\n",
    "    filename = path.name.replace(\".wav\", \"\").strip()\n",
    "    pitch_high, pitch_low, pitch_range = get_pitch_range(str(path))\n",
    "    df.loc[df['fileName'] == filename, 'pitch_high'] = pitch_high\n",
    "    df.loc[df['fileName'] == filename, 'pitch_low'] = pitch_low\n",
    "    df.loc[df['fileName'] == filename, 'pitch_range'] = pitch_range\n",
    "\n",
    "for path in tqdm(mis_wav_paths, desc=\"mismatch\"):\n",
    "    filename = path.name.replace(\".wav\", \"\").strip()\n",
    "    pitch_high, pitch_low, pitch_range = get_pitch_range(str(path))\n",
    "    df.loc[df['fileName'] == filename, 'pitch_high'] = pitch_high\n",
    "    df.loc[df['fileName'] == filename, 'pitch_low'] = pitch_low\n",
    "    df.loc[df['fileName'] == filename, 'pitch_range'] = pitch_range"
   ]
  },
  {
   "cell_type": "markdown",
   "id": "5617b0e6",
   "metadata": {},
   "source": [
    "- Repetition"
   ]
  },
  {
   "cell_type": "code",
   "execution_count": null,
   "id": "250e9b6a",
   "metadata": {},
   "outputs": [],
   "source": [
    "from sklearn.metrics.pairwise import cosine_similarity\n",
    "\n",
    "def get_repetition_score(audio_path, threshold=0.8, hop_length=512):\n",
    "    # 1. Load audio\n",
    "    y, sr = librosa.load(audio_path)\n",
    "\n",
    "    # 2. Extract chroma feature\n",
    "    chroma = librosa.feature.chroma_cqt(y=y, sr=sr, hop_length=hop_length)  # (12, T)\n",
    "\n",
    "    # 3. Cosine similarity between time frames\n",
    "    ssm = cosine_similarity(chroma.T)  # (T, T)\n",
    "    T = ssm.shape[0]\n",
    "\n",
    "    # 4. Valid repeat: high similarity\n",
    "    valid_region = ssm[np.triu_indices(T, k=1)]\n",
    "    repeated_area_new = np.sum(valid_region >= threshold)\n",
    "    total_possible = valid_region.size\n",
    "    repetition_ratio_value_new = repeated_area_new / total_possible if total_possible > 0 else 0\n",
    "\n",
    "    return repeated_area_new, repetition_ratio_value_new"
   ]
  },
  {
   "cell_type": "code",
   "execution_count": null,
   "id": "ac1c5957",
   "metadata": {},
   "outputs": [],
   "source": [
    "for label in [\"0\", \"1\", \"2\", \"3\"]:\n",
    "    dir_path = Path(\"temp_wavs\") / label\n",
    "    for path in tqdm(list(dir_path.glob(\"*.wav\")), desc=f\"Label {label}\"):\n",
    "        try:\n",
    "            count, ratio = get_repetition_score(str(path))\n",
    "            filename = path.name.replace(\".wav\", \"\").strip()\n",
    "            row_idx = df[df[\"fileName\"].str.replace(\".wav\", \"\").str.strip() == filename].index\n",
    "\n",
    "            if len(row_idx) > 0:\n",
    "                df.loc[row_idx, \"repeat_area_size_new\"] = count\n",
    "                df.loc[row_idx, \"repetition_ratio_new\"] = ratio\n",
    "            else:\n",
    "                print(f\"[경고] 실패: {filename}\")\n",
    "        except Exception as e:\n",
    "            print(f\"[오류] {path.name}: {e}\")"
   ]
  },
  {
   "cell_type": "markdown",
   "id": "87d3cbaa",
   "metadata": {},
   "source": [
    "- MFCC"
   ]
  },
  {
   "cell_type": "code",
   "execution_count": null,
   "id": "5d8118a2",
   "metadata": {},
   "outputs": [],
   "source": [
    "def get_mfcc_summary(audio_path):\n",
    "    y, sr = librosa.load(audio_path)\n",
    "    \n",
    "    mfcc = librosa.feature.mfcc(y=y, sr=sr, n_mfcc=13)\n",
    "    mfcc_mean = np.mean(mfcc, axis=1)\n",
    "    mfcc_std = np.std(mfcc, axis=1)\n",
    "\n",
    "    return mfcc_mean, mfcc_std"
   ]
  },
  {
   "cell_type": "code",
   "execution_count": null,
   "id": "099f16be",
   "metadata": {},
   "outputs": [],
   "source": [
    "for path in tqdm(mat_wav_paths, desc=\"match\"):\n",
    "    filename = path.name.replace(\".wav\", \"\").strip()\n",
    "    mfcc_mean, mfcc_std = get_mfcc_summary(str(path))\n",
    "    row_idx = df.index[df['fileName'] == filename]\n",
    "    if len(row_idx) == 1:\n",
    "        for i in range(len(mfcc_mean)):\n",
    "            df.at[row_idx[0], f'mfcc_{i}_mean'] = mfcc_mean[i]\n",
    "            df.at[row_idx[0], f'mfcc_{i}_std'] = mfcc_std[i]\n",
    "\n",
    "for path in tqdm(mis_wav_paths, desc=\"mismatch\"):\n",
    "    filename = path.name.replace(\".wav\", \"\").strip()\n",
    "    mfcc_mean, mfcc_std = get_mfcc_summary(str(path))\n",
    "    row_idx = df.index[df['fileName'] == filename]\n",
    "    if len(row_idx) == 1:\n",
    "        for i in range(len(mfcc_mean)):\n",
    "            df.at[row_idx[0], f'mfcc_{i}_mean'] = mfcc_mean[i]\n",
    "            df.at[row_idx[0], f'mfcc_{i}_std'] = mfcc_std[i]"
   ]
  },
  {
   "cell_type": "markdown",
   "id": "b1511720",
   "metadata": {},
   "source": [
    "- Centroid"
   ]
  },
  {
   "cell_type": "code",
   "execution_count": null,
   "id": "2c923344",
   "metadata": {},
   "outputs": [],
   "source": [
    "def get_spectral_centroid(audio_path):\n",
    "    y, sr = librosa.load(audio_path)\n",
    "\n",
    "    centroid = librosa.feature.spectral_centroid(y=y, sr=sr)[0]\n",
    "    centroid_mean = np.mean(centroid)\n",
    "    centroid_std = np.std(centroid)\n",
    "    return centroid_mean, centroid_std"
   ]
  },
  {
   "cell_type": "code",
   "execution_count": null,
   "id": "2f4ee451",
   "metadata": {},
   "outputs": [],
   "source": [
    "for path in tqdm(mat_wav_paths, desc=\"match\"):\n",
    "    filename = path.name.replace(\".wav\", \"\").strip()\n",
    "    centroid_mean, centroid_std = get_spectral_centroid(str(path))\n",
    "    row_idx = df.index[df['fileName'] == filename]\n",
    "    df.loc[df['fileName'] == filename, 'centroid_mean'] = centroid_mean\n",
    "    df.loc[df['fileName'] == filename, 'centroid_std'] = centroid_std\n",
    "\n",
    "\n",
    "for path in tqdm(mis_wav_paths, desc=\"mismatch\"):\n",
    "    filename = path.name.replace(\".wav\", \"\").strip()\n",
    "    centroid_mean, centroid_std = get_spectral_centroid(str(path))\n",
    "    df.loc[df['fileName'] == filename, 'centroid_mean'] = centroid_mean\n",
    "    df.loc[df['fileName'] == filename, 'centroid_std'] = centroid_std"
   ]
  }
 ],
 "metadata": {
  "language_info": {
   "name": "python"
  }
 },
 "nbformat": 4,
 "nbformat_minor": 5
}
